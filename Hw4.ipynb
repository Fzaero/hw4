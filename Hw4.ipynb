{
 "cells": [
  {
   "cell_type": "markdown",
   "metadata": {},
   "source": [
    "# Hw4 25.3\n"
   ]
  },
  {
   "cell_type": "markdown",
   "metadata": {},
   "source": [
    "Suppose we have a $3×3$  matrix and wish to introduce zeros by left- and/or right- multiplications by unitary matrices $Q_j$ , such as Householder reﬂectors or Givens rotations. Consider the following three matrix structures:\n",
    "$$\n",
    "\\text{a)}\n",
    "\\begin{bmatrix}\n",
    "    x & x & 0 \\\\\n",
    "    0 & x & x \\\\\n",
    "    0 & 0 & x\n",
    "\\end{bmatrix}\\hspace{1cm}\n",
    "\\text{b)}\n",
    "\\begin{bmatrix}\n",
    "    x & x & 0 \\\\\n",
    "    x & 0 & x \\\\\n",
    "    0 & x & x\n",
    "\\end{bmatrix}\\hspace{1cm}\n",
    "\\text{c)}\n",
    "\\begin{bmatrix}\n",
    "    x & x & 0 \\\\\n",
    "    0 & 0 & x \\\\\n",
    "    0 & 0 & x\n",
    "\\end{bmatrix}\n",
    "$$\n",
    "\n",
    "For each one, decide which of the following situations holds, and justify your claim.\n",
    "\n",
    "(i) Can be obtained by a sequence of left-multiplications by matrices $Q_j$ ;\n",
    "\n",
    "(ii) Not (i), but can be obtained by a sequence of left- and right-multiplications by matrices $Q_j$;\n",
    "\n",
    "(iii) Cannot be obtained by a sequence of left- and right-multiplications by matrices $Q_j$."
   ]
  },
  {
   "cell_type": "code",
   "execution_count": 47,
   "metadata": {
    "collapsed": false
   },
   "outputs": [
    {
     "name": "stdout",
     "output_type": "stream",
     "text": [
      "A =\n",
      "\n",
      "   0.765546   0.472542   0.483670\n",
      "   0.086545   0.030473   0.380188\n",
      "   0.273663   0.154867   0.225174\n",
      "\n"
     ]
    }
   ],
   "source": [
    "A=rand(3)"
   ]
  },
  {
   "cell_type": "markdown",
   "metadata": {},
   "source": [
    "## a\n",
    "\n",
    "With left multipliactions, we can come until the matrix(Using two householder multiplication):\n",
    "\\begin{bmatrix}\n",
    "    x & x & x \\\\\n",
    "    0 & x & x \\\\\n",
    "    0 & 0 & x\n",
    "\\end{bmatrix}\n",
    "\n",
    "To change it to form given in a, we also need to do right-multiplication.\n",
    "\n",
    "So for a, (ii) will be used.\n",
    "\n",
    "taking $H_1$ and $H_2$ as householder and $Q_1'$ as given rotation,\n",
    "$a= H_1 H_2 A Q_1'$"
   ]
  },
  {
   "cell_type": "code",
   "execution_count": 51,
   "metadata": {
    "collapsed": false
   },
   "outputs": [
    {
     "name": "stdout",
     "output_type": "stream",
     "text": [
      "Step1A =\n",
      "\n",
      "  -0.81758  -0.49753  -0.56850\n",
      "   0.00000  -0.02256   0.32267\n",
      "   0.00000  -0.01282   0.04329\n",
      "\n",
      "TempA =\n",
      "\n",
      "  -0.81758   0.75547   0.00000\n",
      "   0.00000  -0.22796  -0.22948\n",
      "   0.00000  -0.02414  -0.03816\n",
      "\n",
      "Step2A =\n",
      "\n",
      "  -0.81758   0.75547   0.00000\n",
      "   0.00000   0.22923   0.23222\n",
      "  -0.00000   0.00000  -0.01379\n",
      "\n"
     ]
    }
   ],
   "source": [
    "%% H1\n",
    "v=A(:,1);\n",
    "v=sign(v(1))*norm(v)*[1 0 0]' +v;\n",
    "v=v/norm(v);\n",
    "H1=eye(3)-2*v*v';\n",
    "Step1A=H1*A;\n",
    "%% Q1\n",
    "normStep=norm(Step1A(1,2:3));\n",
    "v=Step1A(1,2:3)/normStep;\n",
    "Q=eye(3);\n",
    "Q(2:3,2:3)=[v(1) -v(2); v(2) v(1)];\n",
    "TempA = H1*A*Q;\n",
    "%% H2\n",
    "v=TempA(2:3,2);\n",
    "v=sign(v(2))*norm(v)*[1 0]' +v;\n",
    "v=v/norm(v);\n",
    "H2=eye(3);\n",
    "tempH2=eye(2)-2*v*v';\n",
    "H2(2:3,2:3)=tempH2;\n",
    "Step2A= H2*H1*A* Q;\n",
    "\n",
    "%% Making it look better.\n",
    "Step1A(abs(Step1A)<1e-16)=0\n",
    "TempA(abs(TempA)<1e-16)=0\n",
    "Step2A(abs(Step2A)<1e-16)=0"
   ]
  },
  {
   "cell_type": "markdown",
   "metadata": {},
   "source": [
    "## b\n",
    "\n",
    "We can not find this without making right multiplication since we need to eliminate values in right upper corner.\n",
    "\n",
    "We can find B by making a transformation to A matrix.\n",
    "\n",
    "so its (ii) again\n",
    "\n",
    "It can be done as following."
   ]
  },
  {
   "cell_type": "code",
   "execution_count": 55,
   "metadata": {
    "collapsed": false
   },
   "outputs": [
    {
     "name": "stdout",
     "output_type": "stream",
     "text": [
      "B =\n",
      "\n",
      "   0.75547  -0.81758   0.00000\n",
      "   0.22923   0.00000   0.23222\n",
      "   0.00000  -0.00000  -0.01379\n",
      "\n"
     ]
    }
   ],
   "source": [
    "C=[0 1 0; 1 0 0; 0 0 1];\n",
    "B=Step2A*C;\n",
    "B(abs(B)<1e-16)=0"
   ]
  },
  {
   "cell_type": "markdown",
   "metadata": {},
   "source": [
    "## c\n",
    "\n",
    "Since this matrix is singular we can't create a singular matrix from non singular with by multiplying with unitary matrixes.\n",
    "\n",
    "C has determinant=0 while our matrixes determinant isn't 0, so it can't be done.\n",
    "\n",
    "so its case (iii).\n",
    "\n"
   ]
  },
  {
   "cell_type": "code",
   "execution_count": null,
   "metadata": {
    "collapsed": true
   },
   "outputs": [],
   "source": []
  }
 ],
 "metadata": {
  "kernelspec": {
   "display_name": "Octave",
   "language": "octave",
   "name": "octave"
  },
  "language_info": {
   "file_extension": ".m",
   "help_links": [
    {
     "text": "GNU Octave",
     "url": "https://www.gnu.org/software/octave/support.html"
    },
    {
     "text": "Octave Kernel",
     "url": "https://github.com/Calysto/octave_kernel"
    },
    {
     "text": "MetaKernel Magics",
     "url": "https://github.com/calysto/metakernel/blob/master/metakernel/magics/README.md"
    }
   ],
   "mimetype": "text/x-octave",
   "name": "octave",
   "version": "4.2.0"
  }
 },
 "nbformat": 4,
 "nbformat_minor": 2
}
